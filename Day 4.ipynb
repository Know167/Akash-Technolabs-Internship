{
 "cells": [
  {
   "cell_type": "code",
   "execution_count": 1,
   "id": "f7bdd3c2",
   "metadata": {},
   "outputs": [
    {
     "name": "stdout",
     "output_type": "stream",
     "text": [
      "Hello world!, I'm Jatin Patel\n"
     ]
    }
   ],
   "source": [
    "# Function example\n",
    "\n",
    "def func():\n",
    "    print(\"Hello world!, I'm Jatin Patel\")\n",
    "    \n",
    "func()"
   ]
  },
  {
   "cell_type": "code",
   "execution_count": 3,
   "id": "ef42adaf",
   "metadata": {},
   "outputs": [
    {
     "name": "stdout",
     "output_type": "stream",
     "text": [
      "Enter first number: 23\n",
      "Enter the second number: 34\n",
      "The sum of values is 57\n"
     ]
    }
   ],
   "source": [
    "# Function with args and return statement\n",
    "\n",
    "def sum(x,y):\n",
    "    ans=x+y\n",
    "    return ans\n",
    "\n",
    "a=int(input(\"Enter first number: \"))\n",
    "b=int(input(\"Enter the second number: \"))\n",
    "\n",
    "print(\"The sum of values is\",sum(a,b))"
   ]
  },
  {
   "cell_type": "code",
   "execution_count": 4,
   "id": "f79babf4",
   "metadata": {},
   "outputs": [
    {
     "name": "stdout",
     "output_type": "stream",
     "text": [
      "Enter first number: 12\n",
      "Enter second number: 23\n",
      "23 is bigger\n"
     ]
    }
   ],
   "source": [
    "# Function with multiple return\n",
    "\n",
    "def greater(x,y):\n",
    "    if x>y: return x\n",
    "    else: return y\n",
    "\n",
    "a=int(input(\"Enter first number: \"))\n",
    "b=int(input(\"Enter second number: \"))\n",
    "\n",
    "print(greater(a,b),\"is bigger\")"
   ]
  },
  {
   "cell_type": "code",
   "execution_count": 5,
   "id": "0cf5a716",
   "metadata": {},
   "outputs": [
    {
     "name": "stdout",
     "output_type": "stream",
     "text": [
      "170\n",
      "30\n"
     ]
    }
   ],
   "source": [
    "# Function with default args\n",
    "\n",
    "def sum(a=10,b=20):\n",
    "    print(a+b)\n",
    "\n",
    "sum(90,80)\n",
    "sum()"
   ]
  },
  {
   "cell_type": "code",
   "execution_count": 9,
   "id": "ce6148a5",
   "metadata": {},
   "outputs": [
    {
     "name": "stdout",
     "output_type": "stream",
     "text": [
      "Hello Patel Jatin\n"
     ]
    }
   ],
   "source": [
    "# Function with keyword args\n",
    "\n",
    "def show(fname, lname):\n",
    "    print(\"Hello\", lname, fname)\n",
    "    \n",
    "show(lname=\"Patel\", fname=\"Jatin\")"
   ]
  },
  {
   "cell_type": "code",
   "execution_count": 11,
   "id": "69bc16c2",
   "metadata": {},
   "outputs": [
    {
     "name": "stdout",
     "output_type": "stream",
     "text": [
      "The sum of all numbers is: 30\n",
      "The sum of all numbers is: 420\n"
     ]
    }
   ],
   "source": [
    "# Function with non keyword and variable length args\n",
    "\n",
    "def add(*a):\n",
    "    \n",
    "    sum=0\n",
    "    \n",
    "    for i in a:\n",
    "        sum=sum+i\n",
    "    \n",
    "    print(\"The sum of all numbers is:\",sum)\n",
    "    \n",
    "add(10,20)\n",
    "add(90,80,70,60,50,40,30)"
   ]
  },
  {
   "cell_type": "code",
   "execution_count": 20,
   "id": "9f186a98",
   "metadata": {},
   "outputs": [
    {
     "name": "stdout",
     "output_type": "stream",
     "text": [
      "rollno : 001\n",
      "name : Jatin\n",
      "age : 12\n"
     ]
    }
   ],
   "source": [
    "# Function with keyword and variable length args\n",
    "\n",
    "def func(**arg):\n",
    "    for i,j in arg.items():\n",
    "        \n",
    "        print(i,j)\n",
    "\n",
    "func(rollno=': 001',name=': Jatin',age=': 12')"
   ]
  },
  {
   "cell_type": "code",
   "execution_count": 21,
   "id": "834a0193",
   "metadata": {},
   "outputs": [
    {
     "name": "stdout",
     "output_type": "stream",
     "text": [
      "X global: 20\n",
      "X local: 10\n"
     ]
    }
   ],
   "source": [
    "# Scope of variables\n",
    "\n",
    "def func():\n",
    "    x=10\n",
    "    print(\"X local:\",x)\n",
    "    \n",
    "x=20\n",
    "print(\"X global:\",x)\n",
    "func()"
   ]
  },
  {
   "cell_type": "code",
   "execution_count": 22,
   "id": "8728356a",
   "metadata": {},
   "outputs": [
    {
     "ename": "IndentationError",
     "evalue": "expected an indented block after 'if' statement on line 3 (3152161031.py, line 4)",
     "output_type": "error",
     "traceback": [
      "\u001b[1;36m  Input \u001b[1;32mIn [22]\u001b[1;36m\u001b[0m\n\u001b[1;33m    print(\"10>20\")\u001b[0m\n\u001b[1;37m    ^\u001b[0m\n\u001b[1;31mIndentationError\u001b[0m\u001b[1;31m:\u001b[0m expected an indented block after 'if' statement on line 3\n"
     ]
    }
   ],
   "source": [
    "# Indentation in Python\n",
    "\n",
    "if 10>20:\n",
    "print(\"10>20\")"
   ]
  },
  {
   "cell_type": "code",
   "execution_count": null,
   "id": "42cb7a96",
   "metadata": {},
   "outputs": [],
   "source": []
  }
 ],
 "metadata": {
  "kernelspec": {
   "display_name": "Python 3 (ipykernel)",
   "language": "python",
   "name": "python3"
  },
  "language_info": {
   "codemirror_mode": {
    "name": "ipython",
    "version": 3
   },
   "file_extension": ".py",
   "mimetype": "text/x-python",
   "name": "python",
   "nbconvert_exporter": "python",
   "pygments_lexer": "ipython3",
   "version": "3.10.2"
  }
 },
 "nbformat": 4,
 "nbformat_minor": 5
}
