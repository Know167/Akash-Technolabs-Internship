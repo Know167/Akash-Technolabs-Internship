{
 "cells": [
  {
   "cell_type": "code",
   "execution_count": 37,
   "id": "44a1a7ce",
   "metadata": {},
   "outputs": [
    {
     "name": "stdout",
     "output_type": "stream",
     "text": [
      "2 row inserted\n"
     ]
    }
   ],
   "source": [
    "# Inserting data\n",
    "\n",
    "import mysql.connector\n",
    "\n",
    "conn=mysql.connector.connect(\n",
    "    host=\"localhost\",\n",
    "    user=\"root\",\n",
    "    password=\"9737892271\",\n",
    "    database=\"myDemo\"\n",
    ")\n",
    "\n",
    "mycursor=conn.cursor()\n",
    "\n",
    "query=\"INSERT INTO tbl_user (user_firstname, user_lastname, user_address, user_email, user_password) VALUES ('Jon', 'Beckham', '124apartments', '123@hotmail.com', '1234'), ('Know', 'Patel', '124apartments', '123@hotmail.com', '1234')\"\n",
    "\n",
    "mycursor.execute(query)\n",
    "\n",
    "conn.commit()\n",
    "\n",
    "print(mycursor.rowcount, \"row inserted\")"
   ]
  },
  {
   "cell_type": "code",
   "execution_count": 28,
   "id": "0d9af497",
   "metadata": {},
   "outputs": [
    {
     "name": "stdout",
     "output_type": "stream",
     "text": [
      "[(1, 'Jon', 'Beckham', '124apartments', '123@hotmail.com', '1234'), (2, 'Know', 'Patel', '124apartments', '123@hotmail.com', '1234')]\n"
     ]
    }
   ],
   "source": [
    "# Reading data\n",
    "\n",
    "mycursor.execute(\"SELECT * FROM tbl_user\")\n",
    "\n",
    "print(mycursor.fetchall())"
   ]
  },
  {
   "cell_type": "code",
   "execution_count": 40,
   "id": "c738fd31",
   "metadata": {},
   "outputs": [
    {
     "name": "stdout",
     "output_type": "stream",
     "text": [
      "1 rows udpated\n"
     ]
    }
   ],
   "source": [
    "# Updating data\n",
    "\n",
    "mycursor.execute(\"UPDATE tbl_user SET user_firstname='Justin' WHERE user_id=1\")\n",
    "\n",
    "print(mycursor.rowcount, \"rows udpated\")"
   ]
  },
  {
   "cell_type": "code",
   "execution_count": 41,
   "id": "a19e562c",
   "metadata": {},
   "outputs": [
    {
     "name": "stdout",
     "output_type": "stream",
     "text": [
      "[(1, 'Justin', 'Patel', '124apartments', '123@hotmail.com', '1234'), (2, 'Jon', 'Beckham', '124apartments', '123@hotmail.com', '1234')]\n"
     ]
    }
   ],
   "source": [
    "# Reading data\n",
    "\n",
    "mycursor.execute(\"SELECT * FROM tbl_user\")\n",
    "\n",
    "print(mycursor.fetchall())"
   ]
  },
  {
   "cell_type": "code",
   "execution_count": 42,
   "id": "121e90c0",
   "metadata": {},
   "outputs": [
    {
     "name": "stdout",
     "output_type": "stream",
     "text": [
      "1 rows deleted\n"
     ]
    }
   ],
   "source": [
    "# Deleting data\n",
    "\n",
    "mycursor.execute(\"DELETE FROM tbl_user WHERE user_id=2\")\n",
    "\n",
    "print(mycursor.rowcount, \"rows deleted\")"
   ]
  },
  {
   "cell_type": "code",
   "execution_count": 43,
   "id": "cb9943b3",
   "metadata": {},
   "outputs": [
    {
     "name": "stdout",
     "output_type": "stream",
     "text": [
      "[(1, 'Justin', 'Patel', '124apartments', '123@hotmail.com', '1234')]\n"
     ]
    }
   ],
   "source": [
    "# Reading data\n",
    "\n",
    "mycursor.execute(\"SELECT * FROM tbl_user\")\n",
    "\n",
    "print(mycursor.fetchall())"
   ]
  },
  {
   "cell_type": "code",
   "execution_count": null,
   "id": "ad8e97f0",
   "metadata": {},
   "outputs": [],
   "source": []
  }
 ],
 "metadata": {
  "kernelspec": {
   "display_name": "Python 3 (ipykernel)",
   "language": "python",
   "name": "python3"
  },
  "language_info": {
   "codemirror_mode": {
    "name": "ipython",
    "version": 3
   },
   "file_extension": ".py",
   "mimetype": "text/x-python",
   "name": "python",
   "nbconvert_exporter": "python",
   "pygments_lexer": "ipython3",
   "version": "3.10.2"
  }
 },
 "nbformat": 4,
 "nbformat_minor": 5
}
