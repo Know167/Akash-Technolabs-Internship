{
 "cells": [
  {
   "cell_type": "code",
   "execution_count": 4,
   "id": "240863da",
   "metadata": {},
   "outputs": [
    {
     "name": "stdout",
     "output_type": "stream",
     "text": [
      "3 row inserted.\n"
     ]
    }
   ],
   "source": [
    "# Connection to a database and inserting a table\n",
    "\n",
    "import mysql.connector\n",
    "\n",
    "conn=mysql.connector.connect(\n",
    "    host=\"localhost\",\n",
    "    user=\"root\",\n",
    "    password=\"9737892271\",\n",
    "    database=\"python project\"\n",
    ")\n",
    "\n",
    "mycursor=conn.cursor()\n",
    "\n",
    "query=\"INSERT INTO testusers (name, age, number) VALUES ('Jatin', 22, 9876543210),('Dipen', 21, 1234567890), ('Jay', 05, 5432167890)\"\n",
    "\n",
    "mycursor.execute(query)\n",
    "\n",
    "conn.commit()\n",
    "\n",
    "print(mycursor.rowcount, \"row inserted.\")"
   ]
  },
  {
   "cell_type": "code",
   "execution_count": 5,
   "id": "6863ff0e",
   "metadata": {},
   "outputs": [
    {
     "name": "stdout",
     "output_type": "stream",
     "text": [
      "(1, 'Jatin', 22, 9876543210)\n",
      "(2, 'Jatin', 22, 9876543210)\n",
      "(3, 'Dipen', 21, 1234567890)\n",
      "(4, 'Jay', 5, 5432167890)\n"
     ]
    }
   ],
   "source": [
    "# Fetching data from the database\n",
    "\n",
    "mycursor.execute(\"SELECT * FROM testusers\")\n",
    "\n",
    "myresult= mycursor.fetchall()\n",
    "\n",
    "for x in myresult:\n",
    "    print(x)"
   ]
  },
  {
   "cell_type": "code",
   "execution_count": 12,
   "id": "c05e1e7d",
   "metadata": {},
   "outputs": [
    {
     "name": "stdout",
     "output_type": "stream",
     "text": [
      "1 row updated\n"
     ]
    }
   ],
   "source": [
    "# Updating the Database\n",
    "\n",
    "query=\"UPDATE testusers SET name='Meet' WHERE id=2\"\n",
    "\n",
    "mycursor.execute(query)\n",
    "\n",
    "print(mycursor.rowcount, \"row updated\")\n",
    "\n",
    "conn.commit()\n"
   ]
  },
  {
   "cell_type": "code",
   "execution_count": 13,
   "id": "8cb42776",
   "metadata": {},
   "outputs": [
    {
     "name": "stdout",
     "output_type": "stream",
     "text": [
      "(1, 'Jatin', 22, 9876543210)\n",
      "(2, 'Meet', 22, 9876543210)\n",
      "(3, 'Dipen', 21, 1234567890)\n",
      "(4, 'Jay', 5, 5432167890)\n"
     ]
    }
   ],
   "source": [
    "#Checking the data\n",
    "\n",
    "mycursor.execute(\"SELECT * FROM testusers\")\n",
    "\n",
    "myresult= mycursor.fetchall()\n",
    "\n",
    "for x in myresult:\n",
    "    print(x)"
   ]
  },
  {
   "cell_type": "code",
   "execution_count": 14,
   "id": "a24f43f0",
   "metadata": {},
   "outputs": [
    {
     "name": "stdout",
     "output_type": "stream",
     "text": [
      "1 row deleted with id=4\n"
     ]
    }
   ],
   "source": [
    "# Deleting data from the database\n",
    "\n",
    "mycursor.execute(\"DELETE FROM testusers WHERE id=4\")\n",
    "\n",
    "print(mycursor.rowcount, \"row deleted with id=4\")"
   ]
  },
  {
   "cell_type": "code",
   "execution_count": 15,
   "id": "b85314e7",
   "metadata": {},
   "outputs": [
    {
     "name": "stdout",
     "output_type": "stream",
     "text": [
      "(1, 'Jatin', 22, 9876543210)\n",
      "(2, 'Meet', 22, 9876543210)\n",
      "(3, 'Dipen', 21, 1234567890)\n"
     ]
    }
   ],
   "source": [
    "#Checking the data\n",
    "\n",
    "mycursor.execute(\"SELECT * FROM testusers\")\n",
    "\n",
    "myresult= mycursor.fetchall()\n",
    "\n",
    "for x in myresult:\n",
    "    print(x)"
   ]
  }
 ],
 "metadata": {
  "kernelspec": {
   "display_name": "Python 3 (ipykernel)",
   "language": "python",
   "name": "python3"
  },
  "language_info": {
   "codemirror_mode": {
    "name": "ipython",
    "version": 3
   },
   "file_extension": ".py",
   "mimetype": "text/x-python",
   "name": "python",
   "nbconvert_exporter": "python",
   "pygments_lexer": "ipython3",
   "version": "3.10.2"
  }
 },
 "nbformat": 4,
 "nbformat_minor": 5
}
