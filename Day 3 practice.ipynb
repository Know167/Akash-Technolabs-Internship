{
 "cells": [
  {
   "cell_type": "code",
   "execution_count": 7,
   "id": "a7918aa4",
   "metadata": {},
   "outputs": [
    {
     "name": "stdout",
     "output_type": "stream",
     "text": [
      "enter length of rectangle: 10\n",
      "enter breadth of rectangle: 20\n",
      "Area of the rectangle is 200\n"
     ]
    }
   ],
   "source": [
    "# Area of a rectangle\n",
    "\n",
    "l=int(input(\"enter length of rectangle: \"))\n",
    "b=int(input(\"enter breadth of rectangle: \"))\n",
    "\n",
    "area=l*b\n",
    "\n",
    "print(\"Area of the rectangle is\",area)"
   ]
  },
  {
   "cell_type": "code",
   "execution_count": 8,
   "id": "941db88d",
   "metadata": {},
   "outputs": [
    {
     "name": "stdout",
     "output_type": "stream",
     "text": [
      "enter side of square: 30\n",
      "Area of the square is 900\n"
     ]
    }
   ],
   "source": [
    "# Area of a square\n",
    "\n",
    "side=int(input(\"enter side of square: \"))\n",
    "\n",
    "area=side**2\n",
    "\n",
    "print(\"Area of the square is\",area)"
   ]
  },
  {
   "cell_type": "code",
   "execution_count": 9,
   "id": "dfa18f6a",
   "metadata": {},
   "outputs": [
    {
     "name": "stdout",
     "output_type": "stream",
     "text": [
      "Enter the radius of the circle: 20\n",
      "Area of the circle is 125\n"
     ]
    }
   ],
   "source": [
    "# Area of a circle\n",
    "\n",
    "radius=int(input(\"Enter the radius of the circle: \"))\n",
    "\n",
    "area=int(2*22/7*radius)\n",
    "\n",
    "print(\"Area of the circle is\",area)"
   ]
  },
  {
   "cell_type": "code",
   "execution_count": 17,
   "id": "613ea09c",
   "metadata": {},
   "outputs": [
    {
     "name": "stdout",
     "output_type": "stream",
     "text": [
      "Enter the number: 12\n",
      "Enter the number: 23\n",
      "Enter the number: 34\n",
      "Enter the number: 45\n",
      "Enter the number: 56\n",
      "The average of these 5 numbers is 34.0\n"
     ]
    }
   ],
   "source": [
    "# Average of 5 numbers\n",
    "\n",
    "num1=int(input(\"Enter the number: \"))\n",
    "num2=int(input(\"Enter the number: \"))\n",
    "num3=int(input(\"Enter the number: \"))\n",
    "num4=int(input(\"Enter the number: \"))\n",
    "num5=int(input(\"Enter the number: \"))\n",
    "\n",
    "average=(num1+num2+num3+num4+num5)/5\n",
    "\n",
    "print(\"The average of these 5 numbers is\",average)"
   ]
  },
  {
   "cell_type": "code",
   "execution_count": 1,
   "id": "2259cdb9",
   "metadata": {},
   "outputs": [
    {
     "name": "stdout",
     "output_type": "stream",
     "text": [
      "Enter the number: 23\n",
      "The number is odd\n"
     ]
    }
   ],
   "source": [
    "# Even/Odd difference\n",
    "\n",
    "num=int(input(\"Enter the number: \"))\n",
    "\n",
    "if(num%2==0): print(\"The number is even\")\n",
    "else: print(\"The number is odd\")"
   ]
  },
  {
   "cell_type": "code",
   "execution_count": 3,
   "id": "2363d3ae",
   "metadata": {},
   "outputs": [
    {
     "name": "stdout",
     "output_type": "stream",
     "text": [
      "Enter the year: 2023\n",
      "It's not a leap year\n"
     ]
    }
   ],
   "source": [
    "# Leap year check\n",
    "\n",
    "year=int(input(\"Enter the year: \"))\n",
    "\n",
    "if year%4==0: print(\"It's a leap year\")\n",
    "else: print(\"It's not a leap year\")"
   ]
  },
  {
   "cell_type": "code",
   "execution_count": 9,
   "id": "9e320dbe",
   "metadata": {},
   "outputs": [
    {
     "name": "stdout",
     "output_type": "stream",
     "text": [
      "Enter the number: -45\n",
      "It's Negative\n"
     ]
    }
   ],
   "source": [
    "# Check positive/negative/zero\n",
    "\n",
    "num=int(input(\"Enter the number: \"))\n",
    "\n",
    "if num>0: print(\"It's Positive\")\n",
    "elif num<0: print(\"It's Negative\")\n",
    "else: print(\"It's zero\")"
   ]
  },
  {
   "cell_type": "code",
   "execution_count": 2,
   "id": "2b49ae18",
   "metadata": {},
   "outputs": [
    {
     "name": "stdout",
     "output_type": "stream",
     "text": [
      "Enter first number: 12\n",
      "Enter second number: 34\n",
      "34 is greater\n"
     ]
    }
   ],
   "source": [
    "# Find greatest of two\n",
    "\n",
    "a=int(input(\"Enter first number: \"))\n",
    "b=int(input(\"Enter second number: \"))\n",
    "\n",
    "if a>b: print(a,\"is greater\")\n",
    "elif a<b: print(b,\"is greater\")\n",
    "else: print(\"They're equal\")"
   ]
  },
  {
   "cell_type": "code",
   "execution_count": 10,
   "id": "86974904",
   "metadata": {},
   "outputs": [
    {
     "name": "stdout",
     "output_type": "stream",
     "text": [
      "Enter the number: 5\n",
      "120\n"
     ]
    }
   ],
   "source": [
    "# Factorial \n",
    "\n",
    "def factorial(f):\n",
    "    if f==1 or f==0: return 1\n",
    "    else: return f*factorial(f-1)\n",
    "        \n",
    "a=int(input(\"Enter the number: \"))\n",
    "ans=1\n",
    "print(factorial(a))\n"
   ]
  },
  {
   "cell_type": "code",
   "execution_count": 15,
   "id": "3b5006d3",
   "metadata": {},
   "outputs": [
    {
     "name": "stdout",
     "output_type": "stream",
     "text": [
      "before the swap\n",
      "a: 10 b: 20\n",
      "-----------------\n",
      "after the swap\n",
      "a: 20 b: 10\n"
     ]
    }
   ],
   "source": [
    "# Swapping values using third variable\n",
    "\n",
    "a,b=10,20\n",
    "\n",
    "\n",
    "print(\"before the swap\")\n",
    "print(\"a:\",a,\"b:\",b)\n",
    "print(\"-----------------\")\n",
    "\n",
    "tmp=b\n",
    "b=a\n",
    "a=tmp\n",
    "\n",
    "print(\"after the swap\")\n",
    "print(\"a:\",a,\"b:\",b)"
   ]
  },
  {
   "cell_type": "code",
   "execution_count": 13,
   "id": "6d1bee58",
   "metadata": {},
   "outputs": [
    {
     "name": "stdout",
     "output_type": "stream",
     "text": [
      "Enter first number: 12\n",
      "Enter second number: 34\n",
      "12 is smaller\n"
     ]
    }
   ],
   "source": [
    "# Find smallest of two\n",
    "\n",
    "a=int(input(\"Enter first number: \"))\n",
    "b=int(input(\"Enter second number: \"))\n",
    "\n",
    "if b<a: print(b,\"is smaller\")\n",
    "elif a<b: print(a,\"is smaller\")\n",
    "else: print(\"They're equal\")"
   ]
  },
  {
   "cell_type": "code",
   "execution_count": 16,
   "id": "2a4ca5ee",
   "metadata": {},
   "outputs": [
    {
     "name": "stdout",
     "output_type": "stream",
     "text": [
      "Enter the number: 23\n",
      "Number is less than 100 and odd\n"
     ]
    }
   ],
   "source": [
    "# Check even or odd if number is less than 100\n",
    "\n",
    "num=int(input(\"Enter the number: \"))\n",
    "\n",
    "if num<100:\n",
    "    if num%2==0: print(\"Number is less than 100 and even\")\n",
    "    else: print(\"Number is less than 100 and odd\")\n",
    "else: print(\"Number is greater than 100\")"
   ]
  },
  {
   "cell_type": "code",
   "execution_count": 17,
   "id": "e66b8ce5",
   "metadata": {},
   "outputs": [
    {
     "name": "stdout",
     "output_type": "stream",
     "text": [
      "Enter the number: 3\n",
      "9\n"
     ]
    }
   ],
   "source": [
    "# Square if number is less than 10\n",
    "\n",
    "num=int(input(\"Enter the number: \"))\n",
    "\n",
    "if num<10:\n",
    "    print(num**2)\n",
    "else: print(\"Number is greater than 10\")"
   ]
  },
  {
   "cell_type": "code",
   "execution_count": 21,
   "id": "9585fedb",
   "metadata": {},
   "outputs": [
    {
     "name": "stdout",
     "output_type": "stream",
     "text": [
      "Enter the number: 45\n",
      "Number is positive\n"
     ]
    }
   ],
   "source": [
    "# zero/positive/negative using nested if....else\n",
    "\n",
    "num=int(input(\"Enter the number: \"))\n",
    "\n",
    "if num!=0:\n",
    "    if num>0: print(\"Number is positive\")\n",
    "    else: print(\"Number is negative\")\n",
    "else: print(\"Number is zero\")"
   ]
  },
  {
   "cell_type": "code",
   "execution_count": 23,
   "id": "e78b3da0",
   "metadata": {},
   "outputs": [
    {
     "name": "stdout",
     "output_type": "stream",
     "text": [
      "Before swap\n",
      "a: 10 b: 20\n",
      "---------------\n",
      "After swap\n",
      "a: 20 b: 10\n"
     ]
    }
   ],
   "source": [
    "# Swap numbers without a third variable\n",
    "\n",
    "\"\"\"\n",
    "a=a+b\n",
    "b=a-b\n",
    "a=a-b        \n",
    "\"\"\"\n",
    "\n",
    "a,b=10,20\n",
    "\n",
    "print(\"Before swap\")\n",
    "print(\"a:\",a,\"b:\",b)\n",
    "a=a+b\n",
    "b=a-b\n",
    "a=a-b\n",
    "\n",
    "print(\"---------------\")\n",
    "print(\"After swap\")\n",
    "print(\"a:\",a,\"b:\",b)"
   ]
  },
  {
   "cell_type": "code",
   "execution_count": 6,
   "id": "0eb8e83e",
   "metadata": {},
   "outputs": [
    {
     "name": "stdout",
     "output_type": "stream",
     "text": [
      "Enter the starting number: 24\n",
      "Enter the ending number: 2\n",
      "24\n",
      "21\n",
      "18\n",
      "15\n",
      "12\n",
      "9\n",
      "6\n",
      "3\n",
      "2\n"
     ]
    }
   ],
   "source": [
    "# Printing the series\n",
    "\n",
    "start=int(input(\"Enter the starting number: \"))\n",
    "end=int(input(\"Enter the ending number: \"))\n",
    "\n",
    "i=start\n",
    "while i>end:\n",
    "    print(i)\n",
    "    i=i-3\n",
    "print(end)"
   ]
  },
  {
   "cell_type": "code",
   "execution_count": null,
   "id": "d494cb53",
   "metadata": {},
   "outputs": [],
   "source": []
  }
 ],
 "metadata": {
  "kernelspec": {
   "display_name": "Python 3 (ipykernel)",
   "language": "python",
   "name": "python3"
  },
  "language_info": {
   "codemirror_mode": {
    "name": "ipython",
    "version": 3
   },
   "file_extension": ".py",
   "mimetype": "text/x-python",
   "name": "python",
   "nbconvert_exporter": "python",
   "pygments_lexer": "ipython3",
   "version": "3.10.2"
  }
 },
 "nbformat": 4,
 "nbformat_minor": 5
}
