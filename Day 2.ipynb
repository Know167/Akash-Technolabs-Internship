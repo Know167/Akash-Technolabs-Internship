{
 "cells": [
  {
   "cell_type": "code",
   "execution_count": 1,
   "id": "8fc91dc4",
   "metadata": {},
   "outputs": [
    {
     "name": "stdout",
     "output_type": "stream",
     "text": [
      "Enter your name:Jatin\n",
      "Hello, Jatin\n"
     ]
    }
   ],
   "source": [
    "# input output\n",
    "\n",
    "#taking input\n",
    "name=input(\"Enter your name:\")\n",
    "\n",
    "#writing output\n",
    "print(\"Hello,\",name)"
   ]
  },
  {
   "cell_type": "code",
   "execution_count": 6,
   "id": "da598b71",
   "metadata": {},
   "outputs": [
    {
     "name": "stdout",
     "output_type": "stream",
     "text": [
      "Enter your first value:10\n",
      "Enter your second value:20\n",
      "The sum of the two values is 30\n"
     ]
    }
   ],
   "source": [
    "# simple addition program with user input\n",
    "\n",
    "n1=int(input(\"Enter your first value:\"))\n",
    "n2=int(input(\"Enter your second value:\"))\n",
    "\n",
    "sum=n1+n2\n",
    "\n",
    "print(\"The sum of the two values is\",sum)"
   ]
  },
  {
   "cell_type": "code",
   "execution_count": 9,
   "id": "0ba9971e",
   "metadata": {},
   "outputs": [
    {
     "name": "stdout",
     "output_type": "stream",
     "text": [
      "sum: 70\n",
      "difference: 10\n",
      "multiplication: 1200\n",
      "division: 0.75\n",
      "floor division: 0\n",
      "raised: 900\n",
      "modulus: 10\n"
     ]
    }
   ],
   "source": [
    "# Arithmetic Operations\n",
    "\n",
    "x,y=30,40\n",
    "\n",
    "print(\"sum:\",x+y)\n",
    "\n",
    "print(\"difference:\",y-x)\n",
    "\n",
    "print(\"multiplication:\",x*y)\n",
    "\n",
    "print(\"division:\",x/y)\n",
    "\n",
    "print(\"floor division:\",x//y)\n",
    "\n",
    "print(\"raised:\",x**2)\n",
    "\n",
    "print(\"modulus:\",y%x)"
   ]
  },
  {
   "cell_type": "code",
   "execution_count": 11,
   "id": "04452e79",
   "metadata": {},
   "outputs": [
    {
     "name": "stdout",
     "output_type": "stream",
     "text": [
      "x equal to y: False\n",
      "x not equal to y: True\n",
      "x greater than y: False\n",
      "x less than y: True\n",
      "x greater than or equal to y: False\n",
      "x less than or equal to y: True\n"
     ]
    }
   ],
   "source": [
    "# Comparision Operations\n",
    "\n",
    "x,y=30,40\n",
    "\n",
    "print(\"x equal to y:\",x==y)\n",
    "\n",
    "print(\"x not equal to y:\",x!=y)\n",
    "\n",
    "print(\"x greater than y:\",x>y)\n",
    "\n",
    "print(\"x less than y:\",x<y)\n",
    "\n",
    "print(\"x greater than or equal to y:\",x>=y)\n",
    "\n",
    "print(\"x less than or equal to y:\",x<=y)"
   ]
  },
  {
   "cell_type": "code",
   "execution_count": 18,
   "id": "86a6fa86",
   "metadata": {},
   "outputs": [
    {
     "name": "stdout",
     "output_type": "stream",
     "text": [
      "0\n",
      "1\n",
      "False\n",
      "--------------------\n",
      "c is the largest\n",
      "--------------------\n",
      "Enter only 1 character to check if it's a vowel or a consonant:b\n",
      "It's a consonant\n"
     ]
    }
   ],
   "source": [
    "# Logical Operations\n",
    "\n",
    "x,y=1,0\n",
    "\n",
    "print(x and y)\n",
    "print(x or y)\n",
    "print(not x)\n",
    "print(\"--------------------\")\n",
    "\n",
    "#Bigger of three\n",
    "\n",
    "a,b,c=10,20,30\n",
    "if(a>b and a>c): print(\"a is the largest\")\n",
    "if(b>a and b>c): print(\"b is the largest\")\n",
    "if(c>a and c>b): print(\"c is the largest\")\n",
    "\n",
    "print(\"--------------------\")\n",
    "#Vowel or Consonant\n",
    "\n",
    "ch=input(\"Enter only 1 character to check if it's a vowel or a consonant:\")\n",
    "\n",
    "if(ch=='a' or ch=='A' or ch=='e' or ch=='E'or ch=='i' or ch=='I'or ch=='o' or ch=='O'or ch=='u' or ch=='U'):print(\"It's a vowel\")\n",
    "else: print(\"It's a consonant\")"
   ]
  },
  {
   "cell_type": "code",
   "execution_count": 28,
   "id": "6580cc20",
   "metadata": {},
   "outputs": [
    {
     "name": "stdout",
     "output_type": "stream",
     "text": [
      "x+=5:  55\n",
      "x-=5:  50\n",
      "x*=5:  250\n",
      "x/=5:  50.0\n",
      "x//=5:  10.0\n",
      "x**=2:  100.0\n",
      "x%=5:  0.0\n"
     ]
    }
   ],
   "source": [
    "# Assignment Operations\n",
    "\n",
    "x=50\n",
    "\n",
    "x+=5\n",
    "print(\"x+=5: \",x)\n",
    "\n",
    "x-=5\n",
    "print(\"x-=5: \",x)\n",
    "\n",
    "x*=5\n",
    "print(\"x*=5: \",x)\n",
    "\n",
    "x/=5\n",
    "print(\"x/=5: \",x)\n",
    "\n",
    "x//=5\n",
    "print(\"x//=5: \",x)\n",
    "\n",
    "x**=2\n",
    "print(\"x**=2: \",x)\n",
    "\n",
    "x%=5\n",
    "print(\"x%=5: \",x)"
   ]
  },
  {
   "cell_type": "code",
   "execution_count": 29,
   "id": "fd6880b2",
   "metadata": {},
   "outputs": [
    {
     "name": "stdout",
     "output_type": "stream",
     "text": [
      "True\n",
      "False\n"
     ]
    }
   ],
   "source": [
    "# Membership Operations\n",
    "\n",
    "x=3\n",
    "\n",
    "list1=[1,2,3,4,5,6,7,8,9,0]\n",
    "\n",
    "print(x in list1)\n",
    "\n",
    "print(x not in list1)"
   ]
  },
  {
   "cell_type": "code",
   "execution_count": 31,
   "id": "6d3aaa5d",
   "metadata": {},
   "outputs": [
    {
     "name": "stdout",
     "output_type": "stream",
     "text": [
      "False\n",
      "True\n"
     ]
    }
   ],
   "source": [
    "# Identity Operations\n",
    "\n",
    "x,y=10,20\n",
    "\n",
    "print(x is y)\n",
    "\n",
    "print(x is not y)"
   ]
  }
 ],
 "metadata": {
  "kernelspec": {
   "display_name": "Python 3 (ipykernel)",
   "language": "python",
   "name": "python3"
  },
  "language_info": {
   "codemirror_mode": {
    "name": "ipython",
    "version": 3
   },
   "file_extension": ".py",
   "mimetype": "text/x-python",
   "name": "python",
   "nbconvert_exporter": "python",
   "pygments_lexer": "ipython3",
   "version": "3.10.2"
  }
 },
 "nbformat": 4,
 "nbformat_minor": 5
}
