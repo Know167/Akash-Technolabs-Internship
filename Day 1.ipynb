{
 "cells": [
  {
   "cell_type": "code",
   "execution_count": 3,
   "id": "36ca3cc1",
   "metadata": {},
   "outputs": [
    {
     "name": "stdout",
     "output_type": "stream",
     "text": [
      "Hello World!\n"
     ]
    }
   ],
   "source": [
    "#hello world program\n",
    "\n",
    "print(\"Hello World!\")"
   ]
  },
  {
   "cell_type": "code",
   "execution_count": 11,
   "id": "9a1ed10c",
   "metadata": {},
   "outputs": [
    {
     "name": "stdout",
     "output_type": "stream",
     "text": [
      "10\n",
      "10.5\n",
      "(10+5j)\n",
      "I'm Know167\n"
     ]
    }
   ],
   "source": [
    "# Different types of variables\n",
    "\n",
    "Int=10\n",
    "Float=10.5\n",
    "Complex=10+5j\n",
    "String=\"I'm Know167\"\n",
    "\n",
    "print(Int)\n",
    "print(Float)\n",
    "print(Complex)\n",
    "print(String)"
   ]
  },
  {
   "cell_type": "code",
   "execution_count": 12,
   "id": "61ac1e68",
   "metadata": {},
   "outputs": [
    {
     "name": "stdout",
     "output_type": "stream",
     "text": [
      "20\n",
      "20.5\n",
      "(20+10j)\n",
      "I'm Know167\n"
     ]
    }
   ],
   "source": [
    "# Assigning values to multiple variables in a single line\n",
    "\n",
    "a, b, c, str = 20, 20.5, 20+10j, \"I'm Know167\"\n",
    "\n",
    "print(a)\n",
    "print(b)\n",
    "print(c)\n",
    "print(str)"
   ]
  },
  {
   "cell_type": "code",
   "execution_count": 18,
   "id": "5f4c5a53",
   "metadata": {},
   "outputs": [
    {
     "name": "stdout",
     "output_type": "stream",
     "text": [
      "value of 'a': 30\n",
      "value of 'b': 30\n",
      "value of 'c': 30\n"
     ]
    }
   ],
   "source": [
    "# Assigning same value to multiple variables\n",
    "\n",
    "a=b=c=30\n",
    "\n",
    "print(\"value of 'a':\",a)\n",
    "print(\"value of 'b':\",b)\n",
    "print(\"value of 'c':\",c)"
   ]
  },
  {
   "cell_type": "code",
   "execution_count": 16,
   "id": "eeee2b0a",
   "metadata": {},
   "outputs": [
    {
     "name": "stdout",
     "output_type": "stream",
     "text": [
      "value first assigned to 'a': 10\n",
      "value of 'a' after a change: 20\n"
     ]
    }
   ],
   "source": [
    "# Changing values assigned already\n",
    "\n",
    "a=10\n",
    "\n",
    "print(\"value first assigned to 'a':\",a)\n",
    "\n",
    "    #change value\n",
    "a=20\n",
    "\n",
    "print(\"value of 'a' after a change:\",a)"
   ]
  },
  {
   "cell_type": "code",
   "execution_count": 27,
   "id": "e0f7d8b5",
   "metadata": {},
   "outputs": [
    {
     "name": "stdout",
     "output_type": "stream",
     "text": [
      "using type function:\n",
      "<class 'int'>\n",
      "<class 'float'>\n",
      "<class 'complex'>\n",
      "<class 'str'>\n",
      "\n",
      "using isinstance function\n",
      "True\n",
      "False\n",
      "True\n",
      "False\n"
     ]
    }
   ],
   "source": [
    "# Finding data types using isinstance() and type() function\n",
    "\n",
    "a=40\n",
    "b=40.5\n",
    "c=40+5j\n",
    "\n",
    "str=\"Some String\"\n",
    "\n",
    "    print(\"using type function:\")\n",
    "    print(type(a))\n",
    "    print(type(b))\n",
    "    print(type(c))\n",
    "    print(type(str))\n",
    "\n",
    "#similarly for instanceof\n",
    "print()\n",
    "    print(\"using isinstance function\")\n",
    "\n",
    "    print(isinstance(a,int))\n",
    "    print(isinstance(b,int))\n",
    "    print(isinstance(c,complex))\n",
    "    print(isinstance(str,float))"
   ]
  },
  {
   "cell_type": "code",
   "execution_count": 29,
   "id": "59e944ca",
   "metadata": {},
   "outputs": [
    {
     "name": "stdout",
     "output_type": "stream",
     "text": [
      "H\n",
      "ell\n",
      "oWorld\n",
      "Hell\n"
     ]
    }
   ],
   "source": [
    "# Operations on Strings\n",
    "\n",
    "    str=\"HelloWorld\"\n",
    "\n",
    "    #printing first word\n",
    "    print(str[0])\n",
    "\n",
    "    #printing second letter to fourth letter\n",
    "    print(str[1:4])\n",
    "\n",
    "    #printing fifth letter to last letter\n",
    "    print(str[4:])\n",
    "\n",
    "    #printing uptil fourth letter\n",
    "    print(str[:4])"
   ]
  },
  {
   "cell_type": "code",
   "execution_count": 35,
   "id": "084bec4c",
   "metadata": {},
   "outputs": [
    {
     "name": "stdout",
     "output_type": "stream",
     "text": [
      "50.5\n",
      "Akash Technolabs currently has 50 Interns\n"
     ]
    }
   ],
   "source": [
    "# List datastructure\n",
    "\n",
    "\"\"\"\n",
    "Similar to array\n",
    "Mutable\n",
    "Can store multiple types of data\n",
    "\"\"\"\n",
    "\n",
    "list1=[50, 50.5, 50+5j, \"Akash Technolabs\"]\n",
    "\n",
    "print(list1[1])\n",
    "\n",
    "print(list1[3],\"currently has\", list1[0],\"Interns\")"
   ]
  },
  {
   "cell_type": "code",
   "execution_count": 37,
   "id": "25d52a2f",
   "metadata": {},
   "outputs": [
    {
     "name": "stdout",
     "output_type": "stream",
     "text": [
      "(60, 60.5)\n"
     ]
    },
    {
     "ename": "TypeError",
     "evalue": "'tuple' object does not support item assignment",
     "output_type": "error",
     "traceback": [
      "\u001b[1;31m---------------------------------------------------------------------------\u001b[0m",
      "\u001b[1;31mTypeError\u001b[0m                                 Traceback (most recent call last)",
      "Input \u001b[1;32mIn [37]\u001b[0m, in \u001b[0;36m<cell line: 12>\u001b[1;34m()\u001b[0m\n\u001b[0;32m      8\u001b[0m tuple1\u001b[38;5;241m=\u001b[39m(\u001b[38;5;241m60\u001b[39m, \u001b[38;5;241m60.5\u001b[39m, \u001b[38;5;241m60\u001b[39m\u001b[38;5;241m+\u001b[39m\u001b[38;5;241m5\u001b[39mj, \u001b[38;5;124m\"\u001b[39m\u001b[38;5;124mAkash Technolabs\u001b[39m\u001b[38;5;124m\"\u001b[39m)\n\u001b[0;32m     10\u001b[0m \u001b[38;5;28mprint\u001b[39m(tuple1[:\u001b[38;5;241m2\u001b[39m])\n\u001b[1;32m---> 12\u001b[0m tuple1[\u001b[38;5;241m2\u001b[39m]\u001b[38;5;241m=\u001b[39m\u001b[38;5;241m60\u001b[39m\u001b[38;5;241m+\u001b[39m\u001b[38;5;241m10\u001b[39mj\n",
      "\u001b[1;31mTypeError\u001b[0m: 'tuple' object does not support item assignment"
     ]
    }
   ],
   "source": [
    "# Tuple datastructure\n",
    "\n",
    "\"\"\"\n",
    "Similar to list\n",
    "but Immutable\n",
    "\"\"\"\n",
    "\n",
    "tuple1=(60, 60.5, 60+5j, \"Akash Technolabs\")\n",
    "\n",
    "print(tuple1[:2])\n",
    "\n",
    "tuple1[2]=60+10j"
   ]
  },
  {
   "cell_type": "code",
   "execution_count": 38,
   "id": "b446ace7",
   "metadata": {},
   "outputs": [
    {
     "name": "stdout",
     "output_type": "stream",
     "text": [
      "<class 'dict'>\n",
      "Your name is twenty and your appointment number is 123\n"
     ]
    }
   ],
   "source": [
    "# Dictionary datastructure\n",
    "\n",
    "\"\"\"\n",
    "Store in key-value pairs\n",
    "like a hash table\n",
    "\"\"\"\n",
    "\n",
    "dict1={1: 10, 2: 'twenty', 'key': 123}\n",
    "\n",
    "print(type(dict1))\n",
    "\n",
    "print(\"Your name is\",dict1[2],\"and your appointment number is\",dict1['key'])"
   ]
  },
  {
   "cell_type": "code",
   "execution_count": null,
   "id": "0dcead1a",
   "metadata": {},
   "outputs": [],
   "source": []
  }
 ],
 "metadata": {
  "kernelspec": {
   "display_name": "Python 3 (ipykernel)",
   "language": "python",
   "name": "python3"
  },
  "language_info": {
   "codemirror_mode": {
    "name": "ipython",
    "version": 3
   },
   "file_extension": ".py",
   "mimetype": "text/x-python",
   "name": "python",
   "nbconvert_exporter": "python",
   "pygments_lexer": "ipython3",
   "version": "3.10.2"
  }
 },
 "nbformat": 4,
 "nbformat_minor": 5
}
